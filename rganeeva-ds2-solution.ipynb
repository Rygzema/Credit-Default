{
 "cells": [
  {
   "cell_type": "code",
   "execution_count": 1,
   "id": "dbaeae07",
   "metadata": {
    "_cell_guid": "b1076dfc-b9ad-4769-8c92-a6c4dae69d19",
    "_uuid": "8f2839f25d086af736a60e9eeb907d3b93b6e0e5",
    "execution": {
     "iopub.execute_input": "2021-08-04T12:43:43.117684Z",
     "iopub.status.busy": "2021-08-04T12:43:43.116958Z",
     "iopub.status.idle": "2021-08-04T12:43:43.122396Z",
     "shell.execute_reply": "2021-08-04T12:43:43.122973Z",
     "shell.execute_reply.started": "2021-08-04T12:40:08.703521Z"
    },
    "papermill": {
     "duration": 0.038552,
     "end_time": "2021-08-04T12:43:43.123299",
     "exception": false,
     "start_time": "2021-08-04T12:43:43.084747",
     "status": "completed"
    },
    "tags": []
   },
   "outputs": [
    {
     "name": "stdout",
     "output_type": "stream",
     "text": [
      "/kaggle/input/gb-credit-default/sample_submission.csv\n",
      "/kaggle/input/gb-credit-default/train.csv\n",
      "/kaggle/input/gb-credit-default/test.csv\n"
     ]
    }
   ],
   "source": [
    "# This Python 3 environment comes with many helpful analytics libraries installed\n",
    "# It is defined by the kaggle/python Docker image: https://github.com/kaggle/docker-python\n",
    "# For example, here's several helpful packages to load\n",
    "\n",
    "import numpy as np # linear algebra\n",
    "import pandas as pd # data processing, CSV file I/O (e.g. pd.read_csv)\n",
    "\n",
    "# Input data files are available in the read-only \"../input/\" directory\n",
    "# For example, running this (by clicking run or pressing Shift+Enter) will list all files under the input directory\n",
    "\n",
    "import os\n",
    "for dirname, _, filenames in os.walk('/kaggle/input'):\n",
    "    for filename in filenames:\n",
    "        print(os.path.join(dirname, filename))\n",
    "\n",
    "# You can write up to 20GB to the current directory (/kaggle/working/) that gets preserved as output when you create a version using \"Save & Run All\" \n",
    "# You can also write temporary files to /kaggle/temp/, but they won't be saved outside of the current session"
   ]
  },
  {
   "cell_type": "code",
   "execution_count": 2,
   "id": "aaa29bb1",
   "metadata": {
    "execution": {
     "iopub.execute_input": "2021-08-04T12:43:43.162889Z",
     "iopub.status.busy": "2021-08-04T12:43:43.162196Z",
     "iopub.status.idle": "2021-08-04T12:43:44.675484Z",
     "shell.execute_reply": "2021-08-04T12:43:44.676005Z",
     "shell.execute_reply.started": "2021-08-04T12:40:08.715425Z"
    },
    "papermill": {
     "duration": 1.535297,
     "end_time": "2021-08-04T12:43:44.676196",
     "exception": false,
     "start_time": "2021-08-04T12:43:43.140899",
     "status": "completed"
    },
    "tags": []
   },
   "outputs": [],
   "source": [
    "from sklearn.model_selection import train_test_split\n",
    "from sklearn.metrics import classification_report, f1_score, precision_score, recall_score\n",
    "import catboost as catb\n",
    "\n",
    "import seaborn as sns\n",
    "from matplotlib import pyplot as plt"
   ]
  },
  {
   "cell_type": "code",
   "execution_count": 3,
   "id": "f15c4ff7",
   "metadata": {
    "execution": {
     "iopub.execute_input": "2021-08-04T12:43:44.717870Z",
     "iopub.status.busy": "2021-08-04T12:43:44.717137Z",
     "iopub.status.idle": "2021-08-04T12:43:44.719192Z",
     "shell.execute_reply": "2021-08-04T12:43:44.719659Z",
     "shell.execute_reply.started": "2021-08-04T12:40:08.725642Z"
    },
    "papermill": {
     "duration": 0.026739,
     "end_time": "2021-08-04T12:43:44.719839",
     "exception": false,
     "start_time": "2021-08-04T12:43:44.693100",
     "status": "completed"
    },
    "tags": []
   },
   "outputs": [],
   "source": [
    "import warnings\n",
    "warnings.simplefilter('ignore')\n",
    "sns.set(style='whitegrid')\n",
    "sns.set_context(\"paper\", font_scale=1.5)  \n",
    "pd.options.display.float_format = '{:,.2f}'.format\n",
    "pd.set_option('display.max_rows', 50)\n",
    "plt.rcParams['figure.figsize'] = (6, 4)"
   ]
  },
  {
   "cell_type": "markdown",
   "id": "4e796246",
   "metadata": {
    "papermill": {
     "duration": 0.017138,
     "end_time": "2021-08-04T12:43:44.754385",
     "exception": false,
     "start_time": "2021-08-04T12:43:44.737247",
     "status": "completed"
    },
    "tags": []
   },
   "source": [
    "# Загрузка датасетов"
   ]
  },
  {
   "cell_type": "code",
   "execution_count": 4,
   "id": "39c26c17",
   "metadata": {
    "execution": {
     "iopub.execute_input": "2021-08-04T12:43:44.792278Z",
     "iopub.status.busy": "2021-08-04T12:43:44.791478Z",
     "iopub.status.idle": "2021-08-04T12:43:44.917514Z",
     "shell.execute_reply": "2021-08-04T12:43:44.918100Z",
     "shell.execute_reply.started": "2021-08-04T12:40:08.741008Z"
    },
    "papermill": {
     "duration": 0.146492,
     "end_time": "2021-08-04T12:43:44.918309",
     "exception": false,
     "start_time": "2021-08-04T12:43:44.771817",
     "status": "completed"
    },
    "tags": []
   },
   "outputs": [
    {
     "data": {
      "text/plain": [
       "((7500, 17), (2500, 16))"
      ]
     },
     "execution_count": 4,
     "metadata": {},
     "output_type": "execute_result"
    }
   ],
   "source": [
    "TRAIN_DATASET_PATH = '../input/gb-credit-default/train.csv'\n",
    "TEST_DATASET_PATH = '../input/gb-credit-default/test.csv'\n",
    "SUBMIT_DATASET_PATH = '../input/gb-credit-default/sample_submission.csv'\n",
    "\n",
    "df_train = pd.read_csv(TRAIN_DATASET_PATH)\n",
    "df_test = pd.read_csv(TEST_DATASET_PATH)\n",
    "submit = pd.read_csv(SUBMIT_DATASET_PATH)\n",
    "df_train.shape, df_test.shape"
   ]
  },
  {
   "cell_type": "markdown",
   "id": "8a6cc198",
   "metadata": {
    "papermill": {
     "duration": 0.017006,
     "end_time": "2021-08-04T12:43:44.954198",
     "exception": false,
     "start_time": "2021-08-04T12:43:44.937192",
     "status": "completed"
    },
    "tags": []
   },
   "source": [
    "# Обозначение переменных"
   ]
  },
  {
   "cell_type": "code",
   "execution_count": 5,
   "id": "60924f19",
   "metadata": {
    "execution": {
     "iopub.execute_input": "2021-08-04T12:43:45.002664Z",
     "iopub.status.busy": "2021-08-04T12:43:44.997756Z",
     "iopub.status.idle": "2021-08-04T12:43:45.021974Z",
     "shell.execute_reply": "2021-08-04T12:43:45.022662Z",
     "shell.execute_reply.started": "2021-08-04T12:40:08.800238Z"
    },
    "papermill": {
     "duration": 0.051396,
     "end_time": "2021-08-04T12:43:45.022937",
     "exception": false,
     "start_time": "2021-08-04T12:43:44.971541",
     "status": "completed"
    },
    "tags": []
   },
   "outputs": [
    {
     "name": "stdout",
     "output_type": "stream",
     "text": [
      "Категориальные признаки: ['Home Ownership', 'Years in current job', 'Tax Liens', 'Number of Credit Problems', 'Bankruptcies', 'Purpose', 'Term']\n",
      "Количественные признаки: ['Annual Income', 'Number of Open Accounts', 'Years of Credit History', 'Maximum Open Credit', 'Months since last delinquent', 'Current Loan Amount', 'Current Credit Balance', 'Monthly Debt', 'Credit Score']\n",
      "Число признаков - 16\n"
     ]
    }
   ],
   "source": [
    "target_name = 'Credit Default'\n",
    "cat_feature_names = [col for col in df_train.drop(target_name, axis=1).columns \\\n",
    "                     if len(df_train[col].unique()) < 16] \n",
    "print(f'Категориальные признаки: {cat_feature_names}')\n",
    "num_feature_names = [col for col in df_train.drop(target_name, axis=1).columns \\\n",
    "                     if col not in cat_feature_names]\n",
    "print(f'Количественные признаки: {num_feature_names}')\n",
    "selected_features = cat_feature_names + num_feature_names\n",
    "print(f'Число признаков - {len(selected_features)}')"
   ]
  },
  {
   "cell_type": "markdown",
   "id": "bc08994b",
   "metadata": {
    "papermill": {
     "duration": 0.017702,
     "end_time": "2021-08-04T12:43:45.059241",
     "exception": false,
     "start_time": "2021-08-04T12:43:45.041539",
     "status": "completed"
    },
    "tags": []
   },
   "source": [
    "#  Обработка пропусков"
   ]
  },
  {
   "cell_type": "markdown",
   "id": "56a7d900",
   "metadata": {
    "papermill": {
     "duration": 0.017644,
     "end_time": "2021-08-04T12:43:45.094936",
     "exception": false,
     "start_time": "2021-08-04T12:43:45.077292",
     "status": "completed"
    },
    "tags": []
   },
   "source": [
    "Объекты пропусков в тренировочном и тестовом сетах одинаковы, а сами пропуски пропорциональны, предположим, что это обусловлено отсутствием возможности собрать данные."
   ]
  },
  {
   "cell_type": "code",
   "execution_count": 6,
   "id": "94a7e5d0",
   "metadata": {
    "execution": {
     "iopub.execute_input": "2021-08-04T12:43:45.140002Z",
     "iopub.status.busy": "2021-08-04T12:43:45.139295Z",
     "iopub.status.idle": "2021-08-04T12:43:45.147982Z",
     "shell.execute_reply": "2021-08-04T12:43:45.148504Z",
     "shell.execute_reply.started": "2021-08-04T12:40:08.823243Z"
    },
    "papermill": {
     "duration": 0.0361,
     "end_time": "2021-08-04T12:43:45.148880",
     "exception": false,
     "start_time": "2021-08-04T12:43:45.112780",
     "status": "completed"
    },
    "tags": []
   },
   "outputs": [
    {
     "data": {
      "text/plain": [
       "Home Ownership                     0\n",
       "Annual Income                   1557\n",
       "Years in current job             371\n",
       "Tax Liens                          0\n",
       "Number of Open Accounts            0\n",
       "Years of Credit History            0\n",
       "Maximum Open Credit                0\n",
       "Number of Credit Problems          0\n",
       "Months since last delinquent    4081\n",
       "Bankruptcies                      14\n",
       "Purpose                            0\n",
       "Term                               0\n",
       "Current Loan Amount                0\n",
       "Current Credit Balance             0\n",
       "Monthly Debt                       0\n",
       "Credit Score                    1557\n",
       "Credit Default                     0\n",
       "dtype: int64"
      ]
     },
     "execution_count": 6,
     "metadata": {},
     "output_type": "execute_result"
    }
   ],
   "source": [
    "df_train.isna().sum()"
   ]
  },
  {
   "cell_type": "code",
   "execution_count": 7,
   "id": "091645bf",
   "metadata": {
    "execution": {
     "iopub.execute_input": "2021-08-04T12:43:45.194810Z",
     "iopub.status.busy": "2021-08-04T12:43:45.193787Z",
     "iopub.status.idle": "2021-08-04T12:43:45.197646Z",
     "shell.execute_reply": "2021-08-04T12:43:45.198162Z",
     "shell.execute_reply.started": "2021-08-04T12:40:08.840560Z"
    },
    "papermill": {
     "duration": 0.031292,
     "end_time": "2021-08-04T12:43:45.198338",
     "exception": false,
     "start_time": "2021-08-04T12:43:45.167046",
     "status": "completed"
    },
    "tags": []
   },
   "outputs": [
    {
     "data": {
      "text/plain": [
       "Home Ownership                     0\n",
       "Annual Income                    513\n",
       "Years in current job              86\n",
       "Tax Liens                          0\n",
       "Number of Open Accounts            0\n",
       "Years of Credit History            0\n",
       "Maximum Open Credit                0\n",
       "Number of Credit Problems          0\n",
       "Months since last delinquent    1358\n",
       "Bankruptcies                       3\n",
       "Purpose                            0\n",
       "Term                               0\n",
       "Current Loan Amount                0\n",
       "Current Credit Balance             0\n",
       "Monthly Debt                       0\n",
       "Credit Score                     513\n",
       "dtype: int64"
      ]
     },
     "execution_count": 7,
     "metadata": {},
     "output_type": "execute_result"
    }
   ],
   "source": [
    "df_test.isna().sum()"
   ]
  },
  {
   "cell_type": "code",
   "execution_count": 8,
   "id": "978a2943",
   "metadata": {
    "execution": {
     "iopub.execute_input": "2021-08-04T12:43:45.244723Z",
     "iopub.status.busy": "2021-08-04T12:43:45.243924Z",
     "iopub.status.idle": "2021-08-04T12:43:45.248029Z",
     "shell.execute_reply": "2021-08-04T12:43:45.247439Z",
     "shell.execute_reply.started": "2021-08-04T12:40:08.854374Z"
    },
    "papermill": {
     "duration": 0.03119,
     "end_time": "2021-08-04T12:43:45.248172",
     "exception": false,
     "start_time": "2021-08-04T12:43:45.216982",
     "status": "completed"
    },
    "tags": []
   },
   "outputs": [],
   "source": [
    "df_train['Years in current job'].fillna(0, inplace=True)\n",
    "df_test['Years in current job'].fillna(0, inplace=True)\n",
    "df_train['Bankruptcies'].fillna(0, inplace=True)\n",
    "df_test['Bankruptcies'].fillna(0, inplace=True)"
   ]
  },
  {
   "cell_type": "markdown",
   "id": "4bf621f0",
   "metadata": {
    "papermill": {
     "duration": 0.017668,
     "end_time": "2021-08-04T12:43:45.283634",
     "exception": false,
     "start_time": "2021-08-04T12:43:45.265966",
     "status": "completed"
    },
    "tags": []
   },
   "source": [
    "Из матрицы корреляций делаем вывод, что признак Annual Income коррелирует с признаком Monthly Debt. Заполним пропуски при помощи коэффициента, связывающего значения медиан применимо к вышеуказанным признакам."
   ]
  },
  {
   "cell_type": "markdown",
   "id": "ac9b7ae6",
   "metadata": {
    "papermill": {
     "duration": 0.017953,
     "end_time": "2021-08-04T12:43:45.319653",
     "exception": false,
     "start_time": "2021-08-04T12:43:45.301700",
     "status": "completed"
    },
    "tags": []
   },
   "source": [
    "Согласно предметной области значение Кредитного рейтинга не превышает 1000. Значения превышающие 1000 явно содержат ошибку. При просмотре данных значений видим, что у них справа добавлен лишний 0. Для исправления ошибки разделим данные значения на 10."
   ]
  },
  {
   "cell_type": "code",
   "execution_count": 9,
   "id": "17669c9a",
   "metadata": {
    "execution": {
     "iopub.execute_input": "2021-08-04T12:43:45.359816Z",
     "iopub.status.busy": "2021-08-04T12:43:45.358838Z",
     "iopub.status.idle": "2021-08-04T12:43:45.367281Z",
     "shell.execute_reply": "2021-08-04T12:43:45.367789Z",
     "shell.execute_reply.started": "2021-08-04T12:40:08.871948Z"
    },
    "papermill": {
     "duration": 0.030202,
     "end_time": "2021-08-04T12:43:45.367983",
     "exception": false,
     "start_time": "2021-08-04T12:43:45.337781",
     "status": "completed"
    },
    "tags": []
   },
   "outputs": [
    {
     "data": {
      "text/plain": [
       "Home Ownership                object\n",
       "Years in current job          object\n",
       "Tax Liens                    float64\n",
       "Number of Credit Problems    float64\n",
       "Bankruptcies                 float64\n",
       "Purpose                       object\n",
       "Term                          object\n",
       "dtype: object"
      ]
     },
     "execution_count": 9,
     "metadata": {},
     "output_type": "execute_result"
    }
   ],
   "source": [
    "df_test[cat_feature_names].dtypes"
   ]
  },
  {
   "cell_type": "code",
   "execution_count": 10,
   "id": "1d9c19cf",
   "metadata": {
    "execution": {
     "iopub.execute_input": "2021-08-04T12:43:45.409617Z",
     "iopub.status.busy": "2021-08-04T12:43:45.408438Z",
     "iopub.status.idle": "2021-08-04T12:43:45.423625Z",
     "shell.execute_reply": "2021-08-04T12:43:45.424109Z",
     "shell.execute_reply.started": "2021-08-04T12:40:08.892435Z"
    },
    "papermill": {
     "duration": 0.037649,
     "end_time": "2021-08-04T12:43:45.424293",
     "exception": false,
     "start_time": "2021-08-04T12:43:45.386644",
     "status": "completed"
    },
    "tags": []
   },
   "outputs": [
    {
     "data": {
      "text/plain": [
       "Home Ownership               object\n",
       "Years in current job         object\n",
       "Tax Liens                     int64\n",
       "Number of Credit Problems     int64\n",
       "Bankruptcies                  int64\n",
       "Purpose                      object\n",
       "Term                         object\n",
       "dtype: object"
      ]
     },
     "execution_count": 10,
     "metadata": {},
     "output_type": "execute_result"
    }
   ],
   "source": [
    "for col in cat_feature_names:\n",
    "    if df_train[col].dtype == 'float64':\n",
    "        df_train[col] = df_train[col].astype('int')\n",
    "        df_test[col] = df_test[col].astype('int')\n",
    "\n",
    "df_test[cat_feature_names].dtypes"
   ]
  },
  {
   "cell_type": "code",
   "execution_count": 11,
   "id": "37037359",
   "metadata": {
    "execution": {
     "iopub.execute_input": "2021-08-04T12:43:45.465695Z",
     "iopub.status.busy": "2021-08-04T12:43:45.464653Z",
     "iopub.status.idle": "2021-08-04T12:43:45.479724Z",
     "shell.execute_reply": "2021-08-04T12:43:45.480286Z",
     "shell.execute_reply.started": "2021-08-04T12:40:08.917649Z"
    },
    "papermill": {
     "duration": 0.037352,
     "end_time": "2021-08-04T12:43:45.480466",
     "exception": false,
     "start_time": "2021-08-04T12:43:45.443114",
     "status": "completed"
    },
    "tags": []
   },
   "outputs": [
    {
     "data": {
      "text/plain": [
       "((5625, 16), (1875, 16), (5625,), (1875,))"
      ]
     },
     "execution_count": 11,
     "metadata": {},
     "output_type": "execute_result"
    }
   ],
   "source": [
    "X = df_train.drop(target_name, axis=1)\n",
    "y = df_train[target_name]\n",
    "X_train, X_valid, y_train, y_valid = train_test_split(X, y, shuffle=True, \n",
    "                                                      test_size=0.25, \n",
    "                                                      random_state=42)\n",
    "X_train.shape, X_valid.shape, y_train.shape, y_valid.shape"
   ]
  },
  {
   "cell_type": "code",
   "execution_count": 12,
   "id": "04481b2f",
   "metadata": {
    "execution": {
     "iopub.execute_input": "2021-08-04T12:43:45.553532Z",
     "iopub.status.busy": "2021-08-04T12:43:45.527587Z",
     "iopub.status.idle": "2021-08-04T12:43:46.228724Z",
     "shell.execute_reply": "2021-08-04T12:43:46.228189Z",
     "shell.execute_reply.started": "2021-08-04T12:40:08.933670Z"
    },
    "papermill": {
     "duration": 0.728949,
     "end_time": "2021-08-04T12:43:46.228892",
     "exception": false,
     "start_time": "2021-08-04T12:43:45.499943",
     "status": "completed"
    },
    "tags": []
   },
   "outputs": [
    {
     "name": "stdout",
     "output_type": "stream",
     "text": [
      "TRAIN\n",
      "\n",
      "              precision    recall  f1-score   support\n",
      "\n",
      "           0       0.79      0.98      0.88      4074\n",
      "           1       0.86      0.32      0.47      1551\n",
      "\n",
      "    accuracy                           0.80      5625\n",
      "   macro avg       0.83      0.65      0.67      5625\n",
      "weighted avg       0.81      0.80      0.76      5625\n",
      "\n",
      "TEST\n",
      "\n",
      "              precision    recall  f1-score   support\n",
      "\n",
      "           0       0.77      0.98      0.86      1313\n",
      "           1       0.84      0.31      0.45       562\n",
      "\n",
      "    accuracy                           0.77      1875\n",
      "   macro avg       0.80      0.64      0.65      1875\n",
      "weighted avg       0.79      0.77      0.74      1875\n",
      "\n"
     ]
    }
   ],
   "source": [
    "def get_classification_report(y_train_true, y_train_pred, y_test_true, y_test_pred):\n",
    "    print('TRAIN\\n\\n' + classification_report(y_train_true, y_train_pred))\n",
    "    print('TEST\\n\\n' + classification_report(y_test_true, y_test_pred))\n",
    "    \n",
    "baseline = catb.CatBoostClassifier(iterations=100, \n",
    "                                   nan_mode='Min', \n",
    "                                   silent=True, \n",
    "                                   random_state=42)\n",
    "baseline.fit(X_train, y_train, \n",
    "             cat_features=cat_feature_names, \n",
    "             eval_set=(X_valid, y_valid)\n",
    "            )\n",
    "\n",
    "y_train_pred = baseline.predict(X_train)\n",
    "y_valid_pred = baseline.predict(X_valid)\n",
    "\n",
    "get_classification_report(y_train, y_train_pred, y_valid, y_valid_pred)"
   ]
  },
  {
   "cell_type": "code",
   "execution_count": 13,
   "id": "9e7458b5",
   "metadata": {
    "execution": {
     "iopub.execute_input": "2021-08-04T12:43:46.284457Z",
     "iopub.status.busy": "2021-08-04T12:43:46.276182Z",
     "iopub.status.idle": "2021-08-04T12:43:46.793075Z",
     "shell.execute_reply": "2021-08-04T12:43:46.793553Z",
     "shell.execute_reply.started": "2021-08-04T12:40:09.540839Z"
    },
    "papermill": {
     "duration": 0.545685,
     "end_time": "2021-08-04T12:43:46.793747",
     "exception": false,
     "start_time": "2021-08-04T12:43:46.248062",
     "status": "completed"
    },
    "tags": []
   },
   "outputs": [
    {
     "data": {
      "image/png": "[encoded data removed]",
      "text/plain": [
       "<Figure size 720x360 with 1 Axes>"
      ]
     },
     "metadata": {},
     "output_type": "display_data"
    }
   ],
   "source": [
    "def show_proba_calibration_plots(y_predicted_probs, y_true_labels):\n",
    "    preds_with_true_labels = np.array(list(zip(y_predicted_probs, y_true_labels)))\n",
    "\n",
    "    thresholds = []\n",
    "    precisions = []\n",
    "    recalls = []\n",
    "    f1_scores = []\n",
    "\n",
    "    for threshold in np.linspace(0.1, 0.9, 9):\n",
    "        thresholds.append(threshold)\n",
    "        precisions.append(precision_score(y_true_labels, list(map(int, y_predicted_probs > threshold))))\n",
    "        recalls.append(recall_score(y_true_labels, list(map(int, y_predicted_probs > threshold))))\n",
    "        f1_scores.append(f1_score(y_true_labels, list(map(int, y_predicted_probs > threshold))))\n",
    "         \n",
    "    figure = plt.figure(figsize = (10, 5))\n",
    "\n",
    "    plt1 = figure.add_subplot(111)\n",
    "    plt1.axhline(0.5, color=\"red\")\n",
    "    plt1.plot(thresholds, precisions, label='Precision', linewidth=4)\n",
    "    plt1.plot(thresholds, recalls, label='Recall', linewidth=4)\n",
    "    plt1.plot(thresholds, f1_scores, label='F1', linewidth=4)\n",
    "    plt1.set_ylabel('Scores')\n",
    "    plt1.set_xlabel('Probability threshold')\n",
    "    plt1.set_title('Probabilities threshold calibration')\n",
    "    plt1.legend(bbox_to_anchor=(0.25, 0.25));\n",
    "    \n",
    "y_valid_proba = baseline.predict_proba(X_valid)[:, 1]\n",
    "show_proba_calibration_plots(y_valid_proba, y_valid)"
   ]
  },
  {
   "cell_type": "code",
   "execution_count": 14,
   "id": "eb7ae6ba",
   "metadata": {
    "execution": {
     "iopub.execute_input": "2021-08-04T12:43:46.843292Z",
     "iopub.status.busy": "2021-08-04T12:43:46.842520Z",
     "iopub.status.idle": "2021-08-04T12:43:46.866517Z",
     "shell.execute_reply": "2021-08-04T12:43:46.867044Z",
     "shell.execute_reply.started": "2021-08-04T12:40:10.075706Z"
    },
    "papermill": {
     "duration": 0.051197,
     "end_time": "2021-08-04T12:43:46.867216",
     "exception": false,
     "start_time": "2021-08-04T12:43:46.816019",
     "status": "completed"
    },
    "tags": []
   },
   "outputs": [
    {
     "name": "stdout",
     "output_type": "stream",
     "text": [
      "TRAIN\n",
      "\n",
      "              precision    recall  f1-score   support\n",
      "\n",
      "           0       0.79      0.98      0.88      4074\n",
      "           1       0.86      0.32      0.47      1551\n",
      "\n",
      "    accuracy                           0.80      5625\n",
      "   macro avg       0.83      0.65      0.67      5625\n",
      "weighted avg       0.81      0.80      0.76      5625\n",
      "\n",
      "TEST\n",
      "\n",
      "              precision    recall  f1-score   support\n",
      "\n",
      "           0       0.80      0.80      0.80      1313\n",
      "           1       0.54      0.54      0.54       562\n",
      "\n",
      "    accuracy                           0.72      1875\n",
      "   macro avg       0.67      0.67      0.67      1875\n",
      "weighted avg       0.72      0.72      0.72      1875\n",
      "\n"
     ]
    }
   ],
   "source": [
    "y_valid_pred = np.array(y_valid_proba > 0.31, dtype=int)\n",
    "get_classification_report(y_train, y_train_pred, y_valid, y_valid_pred)"
   ]
  },
  {
   "cell_type": "code",
   "execution_count": 15,
   "id": "01ca4b88",
   "metadata": {
    "execution": {
     "iopub.execute_input": "2021-08-04T12:43:46.939835Z",
     "iopub.status.busy": "2021-08-04T12:43:46.938968Z",
     "iopub.status.idle": "2021-08-04T12:43:47.541379Z",
     "shell.execute_reply": "2021-08-04T12:43:47.540799Z",
     "shell.execute_reply.started": "2021-08-04T12:40:10.108690Z"
    },
    "papermill": {
     "duration": 0.652755,
     "end_time": "2021-08-04T12:43:47.541536",
     "exception": false,
     "start_time": "2021-08-04T12:43:46.888781",
     "status": "completed"
    },
    "tags": []
   },
   "outputs": [],
   "source": [
    "baseline.fit(X, y, \n",
    "             cat_features=cat_feature_names)\n",
    "\n",
    "y_test_pred = baseline.predict_proba(df_test)[:, 1]\n",
    "y_test_pred = np.array(y_test_pred > 0.31, dtype=int)\n",
    "\n",
    "submit['Credit Default'] = y_test_pred\n",
    "submit.to_csv('baseline_catboost_predictions.csv', index=False)"
   ]
  }
 ],
 "metadata": {
  "kernelspec": {
   "display_name": "Python 3",
   "language": "python",
   "name": "python3"
  },
  "language_info": {
   "codemirror_mode": {
    "name": "ipython",
    "version": 3
   },
   "file_extension": ".py",
   "mimetype": "text/x-python",
   "name": "python",
   "nbconvert_exporter": "python",
   "pygments_lexer": "ipython3",
   "version": "3.7.10"
  },
  "papermill": {
   "default_parameters": {},
   "duration": 14.47058,
   "end_time": "2021-08-04T12:43:48.374034",
   "environment_variables": {},
   "exception": null,
   "input_path": "__notebook__.ipynb",
   "output_path": "__notebook__.ipynb",
   "parameters": {},
   "start_time": "2021-08-04T12:43:33.903454",
   "version": "2.3.3"
  }
 },
 "nbformat": 4,
 "nbformat_minor": 5
}
